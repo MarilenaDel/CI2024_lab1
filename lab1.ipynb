{
 "cells": [
  {
   "cell_type": "code",
   "execution_count": 1,
   "metadata": {},
   "outputs": [],
   "source": [
    "from random import random, seed\n",
    "from itertools import product\n",
    "import numpy as np\n",
    "\n",
    "from icecream import ic"
   ]
  },
  {
   "cell_type": "code",
   "execution_count": 2,
   "metadata": {},
   "outputs": [],
   "source": [
    "#inctance 1\n",
    "UNIVERSE_SIZE = 100\n",
    "NUM_SETS = 10\n",
    "DENSITY = 0.2\n",
    "\n",
    "# tabu search stopping criteria\n",
    "MAX_ITERATIONS = 100 \n",
    "\n",
    "rng = np.random.Generator(np.random.PCG64([UNIVERSE_SIZE, NUM_SETS, int(10_000 * DENSITY)]))"
   ]
  },
  {
   "cell_type": "code",
   "execution_count": 3,
   "metadata": {},
   "outputs": [],
   "source": [
    "\n",
    "# DON'T EDIT THESE LINES!\n",
    "\n",
    "SETS = np.random.random((NUM_SETS, UNIVERSE_SIZE)) < DENSITY\n",
    "for s in range(UNIVERSE_SIZE):\n",
    "    if not np.any(SETS[:, s]):\n",
    "        SETS[np.random.randint(NUM_SETS), s] = True\n",
    "COSTS = np.pow(SETS.sum(axis=1), 1.1)"
   ]
  },
  {
   "cell_type": "code",
   "execution_count": 4,
   "metadata": {},
   "outputs": [],
   "source": [
    "def valid(solution):\n",
    "    \"\"\"Checks wether solution is valid (ie. covers all universe)\"\"\"\n",
    "    return np.all(np.logical_or.reduce(SETS[solution]))\n",
    "\n",
    "\n",
    "def cost(solution):\n",
    "    \"\"\"Returns the cost of a solution (to be minimized)\"\"\"\n",
    "    return COSTS[solution].sum()"
   ]
  },
  {
   "cell_type": "code",
   "execution_count": 6,
   "metadata": {},
   "outputs": [
    {
     "data": {
      "text/plain": [
       "(np.True_, np.float64(280.62697817688934))"
      ]
     },
     "execution_count": 6,
     "metadata": {},
     "output_type": "execute_result"
    }
   ],
   "source": [
    "# A dumb solution of \"all\" sets\n",
    "solution = np.full(NUM_SETS, True)\n",
    "valid(solution), cost(solution)\n"
   ]
  },
  {
   "cell_type": "code",
   "execution_count": 7,
   "metadata": {},
   "outputs": [
    {
     "data": {
      "text/plain": [
       "(np.False_, np.float64(123.18864770705468))"
      ]
     },
     "execution_count": 7,
     "metadata": {},
     "output_type": "execute_result"
    }
   ],
   "source": [
    "# A random solution with random 50% of the sets\n",
    "solution = rng.random(NUM_SETS) < .5\n",
    "valid(solution), cost(solution)\n"
   ]
  },
  {
   "cell_type": "code",
   "execution_count": 26,
   "metadata": {},
   "outputs": [],
   "source": [
    "# generate a random initial solution as starting point\n",
    "def get_initial_solution():\n",
    "    return rng.random(NUM_SETS) < .5\n",
    "\n",
    "# generate neighbors by inverting one set's values\n",
    "def InvertMove(solution):\n",
    "    #neighbors = []\n",
    "    #for i in range(len(solution)):\n",
    "    #    neighbor = solution.copy()\n",
    "    #    neighbor[i] = not neighbor[i]\n",
    "    #    neighbors.append(neighbor)\n",
    "    #return neighbors\n",
    "\n",
    "    # np.tile repeats the solution across all rows\n",
    "    neighbors = np.tile(solution, (len(solution), 1))\n",
    "    # invert\n",
    "    for i in range(len(solution)):\n",
    "        neighbors[i, i] = not neighbors[i, i]\n",
    "    return neighbors\n",
    "    \n",
    "\n",
    "def tabu_search(tenure):\n",
    "    current_solution = get_initial_solution()\n",
    "    best_solution = current_solution.copy()\n",
    "    best_cost = cost(best_solution)\n",
    "\n",
    "    # tabu list initialized as empty\n",
    "    tabu_list = []\n",
    "    tabu_tenure = np.zeros(NUM_SETS)\n",
    "\n",
    "    iteration = 0\n",
    "    while iteration < MAX_ITERATIONS:\n",
    "        neighbors = InvertMove(current_solution)\n",
    "        #admissable_neighbors = []\n",
    "\n",
    "        # filter neighbors based on tabu list\n",
    "        #for neighbor in neighbors:\n",
    "         #   if valid(neighbor):\n",
    "          #      neighbor_cost = cost(neighbor)\n",
    "           #     if neighbor_cost < best_cost or iteration > tabu_tenure[neighbor.argmax()]:\n",
    "            #        admissable_neighbors.append(neighbor)\n",
    "\n",
    "        #if not admissable_neighbors:\n",
    "        #    break \n",
    "\n",
    "        # Vectorized validity check and cost calculation for all neighbors\n",
    "        valid_neighbors = np.array([valid(neighbor) for neighbor in neighbors])\n",
    "        neighbor_costs = np.array([cost(neighbor) for neighbor in neighbors])\n",
    "\n",
    "        admissible_mask = (neighbor_costs < best_cost) | (iteration > tabu_tenure)\n",
    "        admissible_neighbors = neighbors[valid_neighbors & admissible_mask]\n",
    "\n",
    "        if admissible_neighbors.size == 0:\n",
    "            break\n",
    "\n",
    "        # choose best admissable neighbor\n",
    "        best_neighbor = min(admissible_neighbors, key=cost)\n",
    "        current_solution = best_neighbor\n",
    "        current_cost = cost(current_solution)\n",
    "\n",
    "        # update best sol if found\n",
    "        if current_cost < best_cost:\n",
    "            best_solution = current_solution.copy()\n",
    "            best_cost = current_cost\n",
    "\n",
    "        # update tabu list\n",
    "        tabu_tenure[best_neighbor.argmax()] = iteration + tenure\n",
    "\n",
    "        iteration += 1\n",
    "\n",
    "    return best_solution, best_cost\n",
    "         \n"
   ]
  },
  {
   "cell_type": "code",
   "execution_count": 27,
   "metadata": {},
   "outputs": [
    {
     "name": "stdout",
     "output_type": "stream",
     "text": [
      "Best solution:  [ True  True False  True False  True  True False False  True]\n",
      "Best cost:  165.01708296769144\n"
     ]
    }
   ],
   "source": [
    "# size of tabu list\n",
    "tenure = 10\n",
    "best_solution, best_cost = tabu_search(tenure)\n",
    "\n",
    "print(\"Best solution: \", best_solution)\n",
    "print(\"Best cost: \", best_cost)\n",
    "#valid(best_solution), cost(best_cost)"
   ]
  }
 ],
 "metadata": {
  "kernelspec": {
   "display_name": "myvenv",
   "language": "python",
   "name": "python3"
  },
  "language_info": {
   "codemirror_mode": {
    "name": "ipython",
    "version": 3
   },
   "file_extension": ".py",
   "mimetype": "text/x-python",
   "name": "python",
   "nbconvert_exporter": "python",
   "pygments_lexer": "ipython3",
   "version": "3.12.6"
  }
 },
 "nbformat": 4,
 "nbformat_minor": 2
}
